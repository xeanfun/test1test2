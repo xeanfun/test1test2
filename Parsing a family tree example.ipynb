{
 "cells": [
  {
   "cell_type": "code",
   "execution_count": 2,
   "id": "5f15b05e",
   "metadata": {},
   "outputs": [],
   "source": [
    "import json\n",
    "from kanren import Relation, facts, run, conde, var, eq\n",
    "\n",
    "#Check is x is the parent of y\n",
    "\n",
    "def parent(x,y):\n",
    "    return conde([father(x,y)], [mother(x,y)])\n",
    "\n",
    "#Check is x is the grandparent of y\n",
    "\n",
    "def grandparent(x,y):\n",
    "    temp = var()\n",
    "    return conde((parent(x,temp), parent(temp,y)))\n",
    "\n",
    "#Check for sibling relationship between x and y\n",
    "\n",
    "def sibling(x,y):\n",
    "    temp = var()\n",
    "    return conde((parent(temp,x), parent(temp,y)))\n",
    "\n",
    "#Check if x is y's uncle\n",
    "\n",
    "def uncle(x,y):\n",
    "    temp = var()\n",
    "    return conde((father(temp,x),grandparent(temp,y)))\n",
    "\n",
    "#Define the main function and initialize father and mother\n",
    "\n",
    "if __name__ == '__main__':\n",
    "    father = Relation()\n",
    "    mother = Relation()\n",
    "    \n",
    "with open(r\"C:\\Users\\UĞUR\\Desktop\\relationships.json\") as f:\n",
    "    d = json.loads(f.read())\n",
    "    \n",
    "for item in d['father']:\n",
    "    facts(father, (list(item.keys())[0], list(item.values())[0]))\n",
    "for item in d['mother']:\n",
    "    facts(mother, (list(item.keys())[0], list(item.values())[0]))\n",
    "    \n",
    "x = var()\n",
    "\n"
   ]
  },
  {
   "cell_type": "markdown",
   "id": "9e114adf",
   "metadata": {},
   "source": [
    "# We're now ready to ask some questions and see if the solver is ready to come up with right answers."
   ]
  },
  {
   "cell_type": "code",
   "execution_count": 3,
   "id": "aa13961c",
   "metadata": {
    "scrolled": true
   },
   "outputs": [
    {
     "name": "stdout",
     "output_type": "stream",
     "text": [
      "\n",
      "List ofJohn's childen:\n",
      "William\n",
      "Adam\n",
      "David\n"
     ]
    }
   ],
   "source": [
    "#John's children\n",
    "\n",
    "name = \"John\"\n",
    "output = run(0,x,father(name,x))\n",
    "print(\"\\nList of\" + name + \"'s childen:\")\n",
    "for item in output:\n",
    "    print(item)"
   ]
  },
  {
   "cell_type": "code",
   "execution_count": 7,
   "id": "965d6697",
   "metadata": {},
   "outputs": [
    {
     "name": "stdout",
     "output_type": "stream",
     "text": [
      "\n",
      "William's mother is:\n",
      "Megan\n"
     ]
    }
   ],
   "source": [
    "#Who is William's mother?\n",
    "\n",
    "name = \"William\"\n",
    "\n",
    "output = run(0, x, mother(x,name))[0]\n",
    "print(\"\\n\" + name + \"'s mother is:\\n\" + output)"
   ]
  },
  {
   "cell_type": "code",
   "execution_count": 8,
   "id": "04808f6e",
   "metadata": {},
   "outputs": [
    {
     "name": "stdout",
     "output_type": "stream",
     "text": [
      "\n",
      "List of Adam's parents:\n",
      "John\n",
      "Megan\n"
     ]
    }
   ],
   "source": [
    "#Who are Adam's parents?\n",
    "name = 'Adam'\n",
    "output = run(0, x, parent(x,name))\n",
    "print(\"\\nList of \" + name + \"'s parents:\")\n",
    "for item in output:\n",
    "    print(item)"
   ]
  },
  {
   "cell_type": "code",
   "execution_count": 9,
   "id": "d9844361",
   "metadata": {},
   "outputs": [
    {
     "name": "stdout",
     "output_type": "stream",
     "text": [
      "\n",
      "List of Wayne's grandparents:\n",
      "Megan\n",
      "John\n"
     ]
    }
   ],
   "source": [
    "#Who are Wayne's grandparents?\n",
    "name = 'Wayne'\n",
    "output = run(0, x, grandparent(x,name))\n",
    "print(\"\\nList of \" + name + \"'s grandparents:\")\n",
    "for item in output:\n",
    "    print(item)"
   ]
  },
  {
   "cell_type": "code",
   "execution_count": 10,
   "id": "9c94049a",
   "metadata": {},
   "outputs": [
    {
     "name": "stdout",
     "output_type": "stream",
     "text": [
      "\n",
      "List of Megan's grandchildren:\n",
      "Julie\n",
      "Sophia\n",
      "Stephanie\n",
      "Peter\n",
      "Chris\n",
      "Wayne\n",
      "Neil\n",
      "Tiffany\n"
     ]
    }
   ],
   "source": [
    "#Who are Megan's grandchildren?\n",
    "name = 'Megan'\n",
    "output = run(0, x, grandparent(name,x))\n",
    "print(\"\\nList of \" + name + \"'s grandchildren:\")\n",
    "for item in output:\n",
    "    print(item)"
   ]
  },
  {
   "cell_type": "code",
   "execution_count": 12,
   "id": "c28aed8f",
   "metadata": {},
   "outputs": [
    {
     "name": "stdout",
     "output_type": "stream",
     "text": [
      "\n",
      "List of David's siblings:\n",
      "Adam\n",
      "William\n",
      "William\n",
      "Adam\n"
     ]
    }
   ],
   "source": [
    "#Who are David's siblings?\n",
    "name = 'David'\n",
    "output = run(0, x, sibling(x,name))\n",
    "siblings = [x for x in output if x!=name]\n",
    "print(\"\\nList of \" + name + \"'s siblings:\")\n",
    "for item in siblings:\n",
    "    print(item)"
   ]
  },
  {
   "cell_type": "code",
   "execution_count": 13,
   "id": "b8dae3fd",
   "metadata": {},
   "outputs": [
    {
     "name": "stdout",
     "output_type": "stream",
     "text": [
      "\n",
      "List of Tiffany's uncles:\n",
      "William\n",
      "Adam\n"
     ]
    }
   ],
   "source": [
    "#Who are Tiffany's uncles?\n",
    "name = 'Tiffany'\n",
    "name_father = run(0,x,father(x,name))[0]\n",
    "output = run(0, x, uncle(x,name))\n",
    "output = [x for x in output if x != name_father]\n",
    "print(\"\\nList of \" + name + \"'s uncles:\")\n",
    "for item in output:\n",
    "    print(item)"
   ]
  },
  {
   "cell_type": "code",
   "execution_count": 19,
   "id": "ee64716f",
   "metadata": {},
   "outputs": [
    {
     "ename": "TypeError",
     "evalue": "'tuple' object is not callable",
     "output_type": "error",
     "traceback": [
      "\u001b[1;31m---------------------------------------------------------------------------\u001b[0m",
      "\u001b[1;31mTypeError\u001b[0m                                 Traceback (most recent call last)",
      "Cell \u001b[1;32mIn[19], line 3\u001b[0m\n\u001b[0;32m      1\u001b[0m \u001b[38;5;66;03m#List of all spouses in the family\u001b[39;00m\n\u001b[0;32m      2\u001b[0m a, b, c \u001b[38;5;241m=\u001b[39m var(), var(), var()\n\u001b[1;32m----> 3\u001b[0m output \u001b[38;5;241m=\u001b[39m run(\u001b[38;5;241m0\u001b[39m, (a, b), (father, a, c) , (mother, b, c))\n\u001b[0;32m      4\u001b[0m \u001b[38;5;28mprint\u001b[39m(\u001b[38;5;124m\"\u001b[39m\u001b[38;5;130;01m\\n\u001b[39;00m\u001b[38;5;124mList of all spouses:\u001b[39m\u001b[38;5;124m\"\u001b[39m)\n\u001b[0;32m      5\u001b[0m \u001b[38;5;28;01mfor\u001b[39;00m item \u001b[38;5;129;01min\u001b[39;00m output:\n",
      "File \u001b[1;32m~\\AppData\\Roaming\\Python\\Python311\\site-packages\\kanren\\core.py:202\u001b[0m, in \u001b[0;36mrun\u001b[1;34m(n, x, results_filter, *goals)\u001b[0m\n\u001b[0;32m    200\u001b[0m     \u001b[38;5;28;01mreturn\u001b[39;00m results\n\u001b[0;32m    201\u001b[0m \u001b[38;5;28;01melif\u001b[39;00m n \u001b[38;5;241m==\u001b[39m \u001b[38;5;241m0\u001b[39m:\n\u001b[1;32m--> 202\u001b[0m     \u001b[38;5;28;01mreturn\u001b[39;00m \u001b[38;5;28mtuple\u001b[39m(results)\n\u001b[0;32m    203\u001b[0m \u001b[38;5;28;01melse\u001b[39;00m:\n\u001b[0;32m    204\u001b[0m     \u001b[38;5;28;01mreturn\u001b[39;00m \u001b[38;5;28mtuple\u001b[39m(take(n, results))\n",
      "File \u001b[1;32m~\\AppData\\Roaming\\Python\\Python311\\site-packages\\kanren\\core.py:83\u001b[0m, in \u001b[0;36mlconj_seq.<locals>.lconj_seq_goal\u001b[1;34m(S)\u001b[0m\n\u001b[0;32m     80\u001b[0m \u001b[38;5;28;01mif\u001b[39;00m g0 \u001b[38;5;129;01mis\u001b[39;00m \u001b[38;5;28;01mNone\u001b[39;00m:\n\u001b[0;32m     81\u001b[0m     \u001b[38;5;28;01mreturn\u001b[39;00m\n\u001b[1;32m---> 83\u001b[0m \u001b[38;5;28;01myield from\u001b[39;00m reduce(bind, _goals, g0(S))\n",
      "\u001b[1;31mTypeError\u001b[0m: 'tuple' object is not callable"
     ]
    }
   ],
   "source": [
    "#List of all spouses in the family\n",
    "a, b, c = var(), var(), var()\n",
    "output = run(0, (a, b), (father, a, c) , (mother, b, c))\n",
    "print(\"\\nList of all spouses:\")\n",
    "for item in output:\n",
    "    print('Husband:' , item[0] , \"<==>Wife\" , item[1])"
   ]
  },
  {
   "cell_type": "code",
   "execution_count": null,
   "id": "bca110c9",
   "metadata": {},
   "outputs": [],
   "source": []
  }
 ],
 "metadata": {
  "kernelspec": {
   "display_name": "Python 3 (ipykernel)",
   "language": "python",
   "name": "python3"
  },
  "language_info": {
   "codemirror_mode": {
    "name": "ipython",
    "version": 3
   },
   "file_extension": ".py",
   "mimetype": "text/x-python",
   "name": "python",
   "nbconvert_exporter": "python",
   "pygments_lexer": "ipython3",
   "version": "3.11.5"
  }
 },
 "nbformat": 4,
 "nbformat_minor": 5
}
