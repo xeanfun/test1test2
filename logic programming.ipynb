{
 "cells": [
  {
   "cell_type": "code",
   "execution_count": 9,
   "id": "3e70cbd7",
   "metadata": {},
   "outputs": [],
   "source": [
    "from kanren import run, var, fact\n",
    "import kanren.assoccomm as la\n",
    "#Define mathematical operations\n",
    "add = 'addition'\n",
    "mul = 'multiplication'\n",
    "#Declare that these operations are commutative using the fact system\n",
    "fact(la.commutative, mul)\n",
    "fact(la.commutative, add)\n",
    "fact(la.associative, mul)\n",
    "fact(la.associative, add)\n",
    "#Define some variables\n",
    "a, b, c = var('a') , var('b') , var('c')\n",
    "#Consider the following expression: expression_orig = 3 x (-2) + (1 + 2 x 3) x (-1)\n",
    "#Lets generate this expression with masked variables\n",
    "#The goal is to match these expressions with the original expression to extract the unknown values\n",
    "expression_orig = (add, (mul, 3, -2), (mul, (add, 1, (mul, 2, 3)), -1))\n",
    "expression1 = (add, (mul, (add, 1, (mul, 2, a)), b), (mul, 3, c))\n",
    "expression2 = (add, (mul, c, 3), (mul, b, (add, (mul, 2, a), 1)))\n",
    "expression3 = (add, (add, (mul, (mul, 2, a), b), b), (mul, 3, c))\n",
    "\n"
   ]
  },
  {
   "cell_type": "markdown",
   "id": "ba0ac27e",
   "metadata": {},
   "source": [
    "# Compare expressions"
   ]
  },
  {
   "cell_type": "code",
   "execution_count": 14,
   "id": "34aa9a8a",
   "metadata": {},
   "outputs": [
    {
     "name": "stdout",
     "output_type": "stream",
     "text": [
      "((3, -1, -2), (3, -1, -2), (3, -1, -2), (3, -1, -2), (3, -1, -2), (3, -1, -2), (3, -1, -2), (3, -1, -2), (3, -1, -2), (3, -1, -2), (3, -1, -2), (3, -1, -2), (3, -1, -2), (3, -1, -2), (3, -1, -2), (3, -1, -2))\n",
      "((3, -1, -2), (3, -1, -2), (3, -1, -2), (3, -1, -2))\n",
      "()\n"
     ]
    }
   ],
   "source": [
    "print(run(0, (a,b,c), la.eq_assoccomm(expression1, expression_orig))) \n",
    "\n",
    "print(run(0, (a,b,c), la.eq_assoccomm(expression2, expression_orig))) \n",
    "\n",
    "print(run(0, (a,b,c), la.eq_assoccomm(expression3, expression_orig))) "
   ]
  },
  {
   "cell_type": "code",
   "execution_count": null,
   "id": "edbfbe40",
   "metadata": {},
   "outputs": [],
   "source": []
  },
  {
   "cell_type": "code",
   "execution_count": null,
   "id": "3788959b",
   "metadata": {},
   "outputs": [],
   "source": []
  }
 ],
 "metadata": {
  "kernelspec": {
   "display_name": "Python 3 (ipykernel)",
   "language": "python",
   "name": "python3"
  },
  "language_info": {
   "codemirror_mode": {
    "name": "ipython",
    "version": 3
   },
   "file_extension": ".py",
   "mimetype": "text/x-python",
   "name": "python",
   "nbconvert_exporter": "python",
   "pygments_lexer": "ipython3",
   "version": "3.11.5"
  }
 },
 "nbformat": 4,
 "nbformat_minor": 5
}
