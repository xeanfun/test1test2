{
 "cells": [
  {
   "cell_type": "code",
   "execution_count": 5,
   "id": "036fbaf2",
   "metadata": {},
   "outputs": [],
   "source": [
    "from kanren import run, fact, eq, Relation, var\n",
    "\n",
    "adjacent = Relation()\n",
    "coastal = Relation()\n",
    "\n",
    "file_coastal = 'C:\\\\Users\\\\UĞUR\\\\Desktop\\\\coastal_states.txt'\n",
    "file_adjacent = 'C:\\\\Users\\\\UĞUR\\\\Desktop\\\\adjacent_states.txt'\n",
    "\n",
    "#Read the file containing coastal states\n",
    "with open(file_coastal, 'r') as f:\n",
    "    line = f.read()\n",
    "    coastal_states = line.split(',')\n",
    "    \n",
    "#Add the info to the fact base\n",
    "for state in coastal_states:\n",
    "    fact(coastal,state)\n",
    "    \n",
    "#Read the file containing adjacent states\n",
    "with open(file_adjacent, 'r') as f:\n",
    "    adjlist = [line.strip().split(',') for line in f if line and line[0].isalpha()]\n",
    "\n",
    "#Add the info to the fact base\n",
    "for L in adjlist:\n",
    "    head, tail = L[0] , L[1:]\n",
    "    for state in tail:\n",
    "        fact(adjacent, head, state)\n",
    "        \n",
    "#Initialize variables\n",
    "x = var()\n",
    "y = var()\n",
    "\n",
    "\n"
   ]
  },
  {
   "cell_type": "markdown",
   "id": "c97f514d",
   "metadata": {},
   "source": [
    "# We are now ready to ask some questions."
   ]
  },
  {
   "cell_type": "code",
   "execution_count": 6,
   "id": "7907e074",
   "metadata": {},
   "outputs": [
    {
     "name": "stdout",
     "output_type": "stream",
     "text": [
      "\n",
      "Is Nevada adjacent to Louisiana?\n",
      "No\n"
     ]
    }
   ],
   "source": [
    "#Is Nevada adjacent to Louisiana?\n",
    "\n",
    "output = run(0,x,adjacent('Nevada' , 'Louisiana'))\n",
    "print('\\nIs Nevada adjacent to Louisiana?')\n",
    "print('Yes' if len(output) else 'No')"
   ]
  },
  {
   "cell_type": "code",
   "execution_count": 7,
   "id": "3b7104a3",
   "metadata": {},
   "outputs": [
    {
     "name": "stdout",
     "output_type": "stream",
     "text": [
      "\n",
      "List of states adjacent to Oregon\n",
      "Idaho\n",
      "Nevada\n",
      "Washington\n",
      "California\n"
     ]
    }
   ],
   "source": [
    "#States adjacent to Oregon\n",
    "\n",
    "output = run(0,x,adjacent('Oregon',x))\n",
    "print('\\nList of states adjacent to Oregon')\n",
    "for item in output:\n",
    "    print(item)"
   ]
  },
  {
   "cell_type": "code",
   "execution_count": 8,
   "id": "91babe7a",
   "metadata": {},
   "outputs": [
    {
     "name": "stdout",
     "output_type": "stream",
     "text": [
      "\n",
      "List of coastal states adjacent to Mississippi:\n",
      "Louisiana\n",
      "Alabama\n"
     ]
    }
   ],
   "source": [
    "#States adjacent to Mississippi that are coastal\n",
    "\n",
    "output = run(0,x,adjacent('Mississippi' , x) , coastal(x))\n",
    "print('\\nList of coastal states adjacent to Mississippi:')\n",
    "for item in output:\n",
    "    print(item)\n"
   ]
  },
  {
   "cell_type": "code",
   "execution_count": 11,
   "id": "0117d846",
   "metadata": {},
   "outputs": [
    {
     "name": "stdout",
     "output_type": "stream",
     "text": [
      "\n",
      "List of 10 states that border a coastal state:\n",
      "Oklahoma\n",
      "Pennsylvania\n",
      "Georgia\n",
      "Vermont\n",
      "Pennsylvania\n",
      "New Jersey\n",
      "Connecticut\n",
      "Idaho\n",
      "Georgia\n",
      "Oregon\n"
     ]
    }
   ],
   "source": [
    "#List of 'n' states that border a coastal state\n",
    "\n",
    "n = 10\n",
    "output = run(n, x, coastal(y), adjacent(x,y))\n",
    "print('\\nList of ' + str(n) + ' states that border a coastal state:')\n",
    "for item in output:\n",
    "    print(item)"
   ]
  },
  {
   "cell_type": "code",
   "execution_count": 12,
   "id": "e66f0261",
   "metadata": {},
   "outputs": [
    {
     "name": "stdout",
     "output_type": "stream",
     "text": [
      "\n",
      "List of states that are adjacent to Arkansas and Kentucky:\n",
      "Missouri\n",
      "Tennessee\n"
     ]
    }
   ],
   "source": [
    "#List of states that adjacent to the two given states\n",
    "output = run(0, x, adjacent('Arkansas' , x) , adjacent('Kentucky' , x))\n",
    "print('\\nList of states that are adjacent to Arkansas and Kentucky:')\n",
    "for item in output:\n",
    "    print(item)"
   ]
  },
  {
   "cell_type": "code",
   "execution_count": null,
   "id": "13996cbd",
   "metadata": {},
   "outputs": [],
   "source": []
  }
 ],
 "metadata": {
  "kernelspec": {
   "display_name": "Python 3 (ipykernel)",
   "language": "python",
   "name": "python3"
  },
  "language_info": {
   "codemirror_mode": {
    "name": "ipython",
    "version": 3
   },
   "file_extension": ".py",
   "mimetype": "text/x-python",
   "name": "python",
   "nbconvert_exporter": "python",
   "pygments_lexer": "ipython3",
   "version": "3.11.5"
  }
 },
 "nbformat": 4,
 "nbformat_minor": 5
}
