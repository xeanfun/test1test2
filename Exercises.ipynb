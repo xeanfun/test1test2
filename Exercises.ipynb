{
 "cells": [
  {
   "cell_type": "markdown",
   "id": "f8a9cf1e",
   "metadata": {},
   "source": [
    "Exercise : Using only one print() method, try to display two or more lines."
   ]
  },
  {
   "cell_type": "code",
   "execution_count": 3,
   "id": "ec06e407",
   "metadata": {},
   "outputs": [
    {
     "name": "stdout",
     "output_type": "stream",
     "text": [
      "asdas \n",
      "dasdas\n"
     ]
    }
   ],
   "source": [
    "print('asdas \\ndasdas')"
   ]
  },
  {
   "cell_type": "markdown",
   "id": "a35dfbb3",
   "metadata": {},
   "source": [
    "Exercise : Try to find a way to raise one number to the power of another"
   ]
  },
  {
   "cell_type": "code",
   "execution_count": 10,
   "id": "0d64b616",
   "metadata": {},
   "outputs": [
    {
     "name": "stdout",
     "output_type": "stream",
     "text": [
      "Enter the first number:2\n",
      "Enter the second number:5\n",
      "32\n"
     ]
    }
   ],
   "source": [
    "a = int(input('Enter the first number:'))\n",
    "b = int(input ('Enter the second number:'))\n",
    "\n",
    "c = pow(a,b)\n",
    "print(c) "
   ]
  },
  {
   "cell_type": "code",
   "execution_count": 5,
   "id": "9cefbaae",
   "metadata": {},
   "outputs": [
    {
     "name": "stdout",
     "output_type": "stream",
     "text": [
      "Help on built-in function pow in module builtins:\n",
      "\n",
      "pow(base, exp, mod=None)\n",
      "    Equivalent to base**exp with 2 arguments or base**exp % mod with 3 arguments\n",
      "    \n",
      "    Some types, such as ints, are able to use a more efficient algorithm when\n",
      "    invoked using the three argument form.\n",
      "\n"
     ]
    }
   ],
   "source": [
    "help(pow)"
   ]
  },
  {
   "cell_type": "code",
   "execution_count": 13,
   "id": "2e5ecd82",
   "metadata": {},
   "outputs": [
    {
     "name": "stdout",
     "output_type": "stream",
     "text": [
      "[[0. 0. 0. 0. 0.]\n",
      " [0. 0. 0. 0. 0.]\n",
      " [0. 0. 0. 0. 0.]\n",
      " [0. 0. 0. 0. 0.]\n",
      " [0. 0. 0. 0. 0.]]\n"
     ]
    }
   ],
   "source": [
    "#NumPy Example\n",
    "\n",
    "import numpy as np\n",
    "nparray = np.zeros((5,5))\n",
    "print(nparray)"
   ]
  },
  {
   "cell_type": "markdown",
   "id": "09428b4f",
   "metadata": {},
   "source": [
    "Exercise : Try to find the mean of all the numbers in the L4 list."
   ]
  },
  {
   "cell_type": "code",
   "execution_count": 18,
   "id": "49eeab81",
   "metadata": {},
   "outputs": [
    {
     "name": "stdout",
     "output_type": "stream",
     "text": [
      "1.6666666666666667\n"
     ]
    }
   ],
   "source": [
    "L4 = [[2, 9, -5], [-1, 0, 4], [3, 1, 2]]\n",
    "\n",
    "import numpy as np\n",
    "npmean = np.mean(L4)\n",
    "print(npmean)"
   ]
  },
  {
   "cell_type": "markdown",
   "id": "12404876",
   "metadata": {},
   "source": [
    "Exercise : Build a condition that will check if a number is divisible by 3 or not."
   ]
  },
  {
   "cell_type": "code",
   "execution_count": 22,
   "id": "764ffbd5",
   "metadata": {},
   "outputs": [
    {
     "name": "stdout",
     "output_type": "stream",
     "text": [
      "Enter a number to see if its divisible by 3 or not:33333333333333333333333333333333\n",
      "33333333333333333333333333333333 is divisible by 3!\n"
     ]
    }
   ],
   "source": [
    "a = int(input('Enter a number to see if its divisible by 3 or not:'))\n",
    "\n",
    "if a%3==0:\n",
    "    print(a , 'is divisible by 3!')\n",
    "else:\n",
    "    print(a , 'is not divisible by 3!')"
   ]
  },
  {
   "cell_type": "markdown",
   "id": "6d356da9",
   "metadata": {},
   "source": [
    "Exercise : Build both for and while loops that can calculate the factorial of a positive integer variable"
   ]
  },
  {
   "cell_type": "code",
   "execution_count": 36,
   "id": "a3d0e657",
   "metadata": {},
   "outputs": [
    {
     "name": "stdout",
     "output_type": "stream",
     "text": [
      "Enter a number to find out its factorial:5\n",
      "120\n"
     ]
    }
   ],
   "source": [
    "#for loops\n",
    "\n",
    "n = int(input('Enter a number to find out its factorial:'))\n",
    "fact = 1\n",
    "for i in range(1,n+1):\n",
    "    fact *= i\n",
    "print(fact)"
   ]
  },
  {
   "cell_type": "code",
   "execution_count": 35,
   "id": "8b78e2a8",
   "metadata": {},
   "outputs": [
    {
     "name": "stdout",
     "output_type": "stream",
     "text": [
      "Enter a number to find out its factorial:5\n",
      "120\n"
     ]
    }
   ],
   "source": [
    "#while loops\n",
    "\n",
    "n = int(input('Enter a number to find out its factorial:'))\n",
    "fact = 1\n",
    "a = 1\n",
    "while a<=n: \n",
    "    fact *= a\n",
    "    a += 1\n",
    "print(fact)"
   ]
  },
  {
   "cell_type": "markdown",
   "id": "6cc33a8e",
   "metadata": {},
   "source": [
    "Exercise : Build a function to calculate the distance between two points on an x,y plane: one with \n",
    "coordinates x1 and y1, and the other with coordinates x2 and y2."
   ]
  },
  {
   "cell_type": "code",
   "execution_count": 52,
   "id": "d4a1171b",
   "metadata": {},
   "outputs": [
    {
     "name": "stdout",
     "output_type": "stream",
     "text": [
      "1.4142135623730951\n"
     ]
    }
   ],
   "source": [
    "def distance(x1, x2, y1, y2):\n",
    "    dist = pow(pow(x1-x2,2) + pow(y1-y2,2),0.5)\n",
    "    return dist\n",
    "z = distance(1,2,3,4)\n",
    "print (z)"
   ]
  },
  {
   "cell_type": "code",
   "execution_count": 54,
   "id": "b9234781",
   "metadata": {},
   "outputs": [],
   "source": [
    "#Example of class\n",
    "\n",
    "class Bot():\n",
    "    def __init__(self, posx, posy):\n",
    "        self.posx = posx\n",
    "        self.posy = posy\n",
    "    def move(self, speedx, speedy):\n",
    "        self.posx += speedx\n",
    "        self.posy += speedy\n"
   ]
  },
  {
   "cell_type": "code",
   "execution_count": 55,
   "id": "bb86ef3c",
   "metadata": {},
   "outputs": [],
   "source": [
    "bot = Bot(3,4)"
   ]
  },
  {
   "cell_type": "code",
   "execution_count": 56,
   "id": "9f8dccd9",
   "metadata": {},
   "outputs": [
    {
     "name": "stdout",
     "output_type": "stream",
     "text": [
      "5 3\n"
     ]
    }
   ],
   "source": [
    "bot.move(2,-1)\n",
    "print(bot.posx,bot.posy)"
   ]
  },
  {
   "cell_type": "markdown",
   "id": "6d5983dd",
   "metadata": {},
   "source": [
    " Exercise : \n",
    " Your final challenge will be to build a very simple car class. As arguments, a car object\n",
    " should take the maximum velocity at which the car can move (unit in m/s), as well as \n",
    " the acceleration at which the car is accelerating (unit in m/s2#). I also challenge you to \n",
    " build a method that will calculate the time it will take for the car to accelerate from the \n",
    " current speed to the maximum speed, knowing the acceleration (use the current speed \n",
    " as the argument of this method)."
   ]
  },
  {
   "cell_type": "code",
   "execution_count": 57,
   "id": "d92c48db",
   "metadata": {},
   "outputs": [
    {
     "name": "stdout",
     "output_type": "stream",
     "text": [
      "12.857142857142858\n"
     ]
    }
   ],
   "source": [
    "class Car():\n",
    "    def __init__(self, maxspeed, accel):\n",
    "        self.maxspeed = maxspeed\n",
    "        self.accel = accel\n",
    "    def time(self, currentspeed):\n",
    "        t = (self.maxspeed - currentspeed) / self.accel\n",
    "        return t\n",
    "    \n",
    "car = Car(75,3.5)\n",
    "\n",
    "time = car.time(30)\n",
    "print(time)"
   ]
  },
  {
   "cell_type": "code",
   "execution_count": null,
   "id": "edd62a27",
   "metadata": {},
   "outputs": [],
   "source": []
  }
 ],
 "metadata": {
  "kernelspec": {
   "display_name": "Python 3 (ipykernel)",
   "language": "python",
   "name": "python3"
  },
  "language_info": {
   "codemirror_mode": {
    "name": "ipython",
    "version": 3
   },
   "file_extension": ".py",
   "mimetype": "text/x-python",
   "name": "python",
   "nbconvert_exporter": "python",
   "pygments_lexer": "ipython3",
   "version": "3.11.5"
  }
 },
 "nbformat": 4,
 "nbformat_minor": 5
}
