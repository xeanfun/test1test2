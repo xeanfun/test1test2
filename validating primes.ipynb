{
 "cells": [
  {
   "cell_type": "code",
   "execution_count": 20,
   "id": "ee316c33",
   "metadata": {},
   "outputs": [
    {
     "ename": "ImportError",
     "evalue": "cannot import name 'var' from 'kanren.core' (C:\\Users\\UĞUR\\AppData\\Roaming\\Python\\Python311\\site-packages\\kanren\\core.py)",
     "output_type": "error",
     "traceback": [
      "\u001b[1;31m---------------------------------------------------------------------------\u001b[0m",
      "\u001b[1;31mImportError\u001b[0m                               Traceback (most recent call last)",
      "Cell \u001b[1;32mIn[20], line 8\u001b[0m\n\u001b[0;32m      5\u001b[0m \u001b[38;5;28;01mfrom\u001b[39;00m \u001b[38;5;21;01munification\u001b[39;00m \u001b[38;5;28;01mimport\u001b[39;00m isvar\n\u001b[0;32m      7\u001b[0m \u001b[38;5;28;01mfrom\u001b[39;00m \u001b[38;5;21;01mkanren\u001b[39;00m \u001b[38;5;28;01mimport\u001b[39;00m membero\n\u001b[1;32m----> 8\u001b[0m \u001b[38;5;28;01mfrom\u001b[39;00m \u001b[38;5;21;01mkanren\u001b[39;00m\u001b[38;5;21;01m.\u001b[39;00m\u001b[38;5;21;01mcore\u001b[39;00m \u001b[38;5;28;01mimport\u001b[39;00m (fail, var, run,\n\u001b[0;32m      9\u001b[0m                          condeseq, eq)\n\u001b[0;32m     10\u001b[0m \u001b[38;5;28;01mtry\u001b[39;00m:\n\u001b[0;32m     11\u001b[0m     \u001b[38;5;28;01mimport\u001b[39;00m \u001b[38;5;21;01msympy\u001b[39;00m\u001b[38;5;21;01m.\u001b[39;00m\u001b[38;5;21;01mntheory\u001b[39;00m\u001b[38;5;21;01m.\u001b[39;00m\u001b[38;5;21;01mgenerate\u001b[39;00m \u001b[38;5;28;01mas\u001b[39;00m \u001b[38;5;21;01msg\u001b[39;00m\n",
      "\u001b[1;31mImportError\u001b[0m: cannot import name 'var' from 'kanren.core' (C:\\Users\\UĞUR\\AppData\\Roaming\\Python\\Python311\\site-packages\\kanren\\core.py)"
     ]
    }
   ],
   "source": [
    "import itertools as it\n",
    "\n",
    "import pytest\n",
    "\n",
    "from unification import isvar\n",
    "\n",
    "from kanren import membero\n",
    "from kanren.core import (fail, var, run,\n",
    "                         condeseq, eq)\n",
    "try:\n",
    "    import sympy.ntheory.generate as sg\n",
    "except ImportError:\n",
    "    sg = None\n",
    "\n",
    "\n",
    "def primo(x):\n",
    "    \"\"\" x is a prime number \"\"\"\n",
    "    if isvar(x):\n",
    "        return condeseq([(eq, x, p)] for p in map(sg.prime, it.count(1)))\n",
    "    else:\n",
    "        return success if sg.isprime(x) else fail\n",
    "\n",
    "\n",
    "def test_primo():\n",
    "    if not sg:\n",
    "        pytest.skip(\"Test missing required library: sympy.ntheory.generate\")\n",
    "\n",
    "    x = var()\n",
    "    res = (set(run(0, x, (membero, x, (20, 21, 22, 23, 24, 25, 26, 27, 28, 29,\n",
    "                                       30)), (primo, x))))\n",
    "\n",
    "    assert {23, 29} == res\n",
    "\n",
    "    assert ((run(5, x, primo(x)))) == (2, 3, 5, 7, 11)"
   ]
  },
  {
   "cell_type": "code",
   "execution_count": null,
   "id": "dd313033",
   "metadata": {},
   "outputs": [],
   "source": []
  }
 ],
 "metadata": {
  "language_info": {
   "codemirror_mode": {
    "name": "ipython",
    "version": 3
   },
   "file_extension": ".py",
   "mimetype": "text/x-python",
   "name": "python",
   "nbconvert_exporter": "python",
   "pygments_lexer": "ipython3",
   "version": "3.11.5"
  }
 },
 "nbformat": 4,
 "nbformat_minor": 5
}
